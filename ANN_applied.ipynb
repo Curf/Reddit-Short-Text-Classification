{
 "cells": [
  {
   "cell_type": "code",
   "execution_count": 99,
   "metadata": {},
   "outputs": [],
   "source": [
    "import pandas as pd\n",
    "import numpy as np\n",
    "from collections import Counter\n",
    "\n",
    "from keras.models import Sequential\n",
    "from keras.layers import Dense\n",
    "from keras.wrappers.scikit_learn import KerasClassifier\n",
    "\n",
    "from sklearn.model_selection import cross_validate, train_test_split, StratifiedKFold\n",
    "from sklearn.preprocessing import LabelEncoder\n",
    "from sklearn.feature_extraction.text import TfidfVectorizer\n",
    "from sklearn.metrics import confusion_matrix\n",
    "\n",
    "import seaborn as sn\n",
    "import matplotlib.pyplot as plt"
   ]
  },
  {
   "cell_type": "code",
   "execution_count": 16,
   "metadata": {},
   "outputs": [],
   "source": [
    "Y_data = pd.read_csv('../data/y_data.csv')\n",
    "raw_text_data = pd.read_csv('../data/raw_text.csv')\n",
    "text_data = pd.read_csv('../data/tf_idf_text.csv', header=None)\n",
    "title_data = pd.read_csv('../data/tf_idf_titles.csv', header=None)\n",
    "\n",
    "# encode class values as binary\n",
    "encoder = LabelEncoder().fit(Y_data['uni_label'].values)\n",
    "dummy_y = encoder.transform(Y_data['uni_label'].values)"
   ]
  },
  {
   "cell_type": "markdown",
   "metadata": {},
   "source": [
    "## IIa. Build ANN model and perform Stratified kfolds validation"
   ]
  },
  {
   "cell_type": "code",
   "execution_count": 3,
   "metadata": {},
   "outputs": [],
   "source": [
    "import seaborn as sn\n",
    "from sklearn.metrics import confusion_matrix\n",
    "def model_compare(hidden_1_neurons = 512, output_units = 1, input_shape = 1000):\n",
    "\n",
    "    model = Sequential()\n",
    "    ## arbitrary use of 8 nodes for now.  Input dimension must be defined for the number of variables being used\n",
    "    model.add(Dense(hidden_1_neurons, input_shape=(input_shape,), activation = 'relu', kernel_initializer = 'glorot_uniform'))\n",
    "\n",
    "    model.add(Dense(output_units, activation = 'hard_sigmoid'))\n",
    "    model.compile(loss='binary_crossentropy', optimizer='rmsprop', metrics=['accuracy'])\n",
    "\n",
    "    return model\n"
   ]
  },
  {
   "cell_type": "code",
   "execution_count": 100,
   "metadata": {},
   "outputs": [
    {
     "data": {
      "text/plain": [
       "(72.68524289131165, 1.2469411980195058)"
      ]
     },
     "execution_count": 100,
     "metadata": {},
     "output_type": "execute_result"
    }
   ],
   "source": [
    "kfold= StratifiedKFold(n_splits=5, shuffle=True, random_state=2018)\n",
    "binary_estimator = KerasClassifier(build_fn = model_compare, epochs = 10, batch_size = 32, verbose=0)\n",
    "scores = cross_validate(binary_estimator, text_data, dummy_y, cv = kfold)['test_score']\n",
    "np.mean(scores)*100, np.std(scores)*100"
   ]
  },
  {
   "cell_type": "markdown",
   "metadata": {},
   "source": [
    "## IIb. Create training and verification set by splitting the raw text data and fitting TF-IDF to train data ONLY\n",
    "    - then transform test and train data\n",
    "    - train model on the training set and test on the verification set"
   ]
  },
  {
   "cell_type": "code",
   "execution_count": 59,
   "metadata": {},
   "outputs": [],
   "source": [
    "x_train, x_test, train_labels, verification_labels = train_test_split(raw_text_data, dummy_y, test_size=0.2, random_state=2018,stratify=dummy_y)\n",
    "vectorizer = TfidfVectorizer(max_features=1000).fit(x_train['text'])\n",
    "train_input = vectorizer.transform(x_train['text']).toarray()\n",
    "verification_input = vectorizer.transform(x_test['text']).toarray()"
   ]
  },
  {
   "cell_type": "code",
   "execution_count": 72,
   "metadata": {},
   "outputs": [],
   "source": [
    "model_i = model_compare()\n",
    "\n",
    "model_i.fit(train_input, train_labels, epochs=10, batch_size=32, verbose=0)\n",
    "predicted_output = (model_i.predict(verification_input)>0.5).astype('int32')\n",
    "confusion_matrix_i = confusion_matrix(verification_labels, predicted_output, labels = [1,0], sample_weight=None)"
   ]
  },
  {
   "cell_type": "code",
   "execution_count": 101,
   "metadata": {},
   "outputs": [
    {
     "name": "stdout",
     "output_type": "stream",
     "text": [
      "              precision    recall  f1-score   support\n",
      "\n",
      "           0     0.7200    0.7105    0.7152        76\n",
      "           1     0.7708    0.7789    0.7749        95\n",
      "\n",
      "    accuracy                         0.7485       171\n",
      "   macro avg     0.7454    0.7447    0.7451       171\n",
      "weighted avg     0.7482    0.7485    0.7484       171\n",
      "\n"
     ]
    }
   ],
   "source": [
    "print(classification_report(verification_labels, predicted_output, digits = 4))"
   ]
  },
  {
   "cell_type": "code",
   "execution_count": 150,
   "metadata": {},
   "outputs": [
    {
     "data": {
      "text/plain": [
       "([<matplotlib.axis.YTick at 0x7f9e7dc9b290>,\n",
       "  <matplotlib.axis.YTick at 0x7f9e7e02e790>],\n",
       " [Text(0, 0, 'Non-University Subreddit'), Text(0, 1, 'University Subreddit')])"
      ]
     },
     "execution_count": 150,
     "metadata": {},
     "output_type": "execute_result"
    },
    {
     "data": {
      "image/png": "[encoded data removed]",
      "text/plain": [
       "<Figure size 720x504 with 2 Axes>"
      ]
     },
     "metadata": {},
     "output_type": "display_data"
    }
   ],
   "source": [
    "plt.figure(figsize = (10,7))\n",
    "sn.heatmap(confusion_matrix_i, annot=True, xticklabels=['Non-University Subreddit','University Subreddit'])\n",
    "\n",
    "plt.yticks(ticks=[0,1],labels=['Non-University Subreddit','University Subreddit'],rotation=0)"
   ]
  },
  {
   "cell_type": "markdown",
   "metadata": {},
   "source": [
    "# III. Quick Investigation of mislabeled posts\n",
    "        Check average char length of the post"
   ]
  },
  {
   "cell_type": "code",
   "execution_count": 82,
   "metadata": {},
   "outputs": [],
   "source": [
    "counter=0\n",
    "mislabel_indexs = []\n",
    "mislabel = []\n",
    "dict_labels = {1:'uni', 0:'non_uni'}\n",
    "for j,(i,y) in enumerate(zip(verification_labels,predicted_output.flatten())):\n",
    "    if i!=y:\n",
    "        counter+=1\n",
    "        mislabel_indexs.append(j)\n",
    "        mislabel.append(dict_labels[i])\n",
    "\n",
    "x_reset = x_test.reset_index(drop = True)\n",
    "\n",
    "mislabeled_posts = pd.DataFrame(x_reset.iloc[mislabel_indexs])\n",
    "mislabeled_posts['REAL_LABELS'] = mislabel"
   ]
  },
  {
   "cell_type": "code",
   "execution_count": 87,
   "metadata": {},
   "outputs": [
    {
     "data": {
      "text/plain": [
       "164    If it has, how do you enable it (im on android). \n",
       "Name: text, dtype: object"
      ]
     },
     "execution_count": 87,
     "metadata": {},
     "output_type": "execute_result"
    }
   ],
   "source": [
    "mislabeled_posts['text'].sample()"
   ]
  },
  {
   "cell_type": "code",
   "execution_count": 88,
   "metadata": {},
   "outputs": [],
   "source": [
    "text_counter = Counter()\n",
    "for i, text in enumerate(mislabeled_posts['text']):\n",
    "    text_counter[i] = len(text)"
   ]
  },
  {
   "cell_type": "code",
   "execution_count": 89,
   "metadata": {},
   "outputs": [
    {
     "data": {
      "text/plain": [
       "91.95348837209302"
      ]
     },
     "execution_count": 89,
     "metadata": {},
     "output_type": "execute_result"
    }
   ],
   "source": [
    "vals =text_counter.values()\n",
    "np.mean(list(vals))"
   ]
  }
 ],
 "metadata": {
  "kernelspec": {
   "display_name": "Python 3",
   "language": "python",
   "name": "python3"
  },
  "language_info": {
   "codemirror_mode": {
    "name": "ipython",
    "version": 3
   },
   "file_extension": ".py",
   "mimetype": "text/x-python",
   "name": "python",
   "nbconvert_exporter": "python",
   "pygments_lexer": "ipython3",
   "version": "3.7.9"
  }
 },
 "nbformat": 4,
 "nbformat_minor": 4
}
